{
 "cells": [
  {
   "cell_type": "code",
   "execution_count": null,
   "metadata": {},
   "outputs": [],
   "source": [
    "from datetime import datetime\n",
    "import numpy as np\n",
    "import xarray as xr \n",
    "import hvplot.xarray\n",
    "#hvplot.extension(comms='vscode')\n",
    "hvplot.extension('bokeh')"
   ]
  },
  {
   "cell_type": "code",
   "execution_count": null,
   "metadata": {},
   "outputs": [],
   "source": [
    "date = datetime(2022,7,1)\n",
    "yr   = str(date.year)\n",
    "yyyymmddhh = date.strftime('%Y%m%d%H')\n",
    "d = '/mnt/AIRNAS1/airpact/AIRRUN/' + yr + '/' + yyyymmddhh + '/'"
   ]
  },
  {
   "cell_type": "code",
   "execution_count": null,
   "metadata": {},
   "outputs": [],
   "source": [
    "# ....Read AIRPACT data files\n",
    "grid = xr.open_dataset(d+'MCIP37/GRIDCRO2D')\n",
    "aconc = xr.open_dataset(d+'CCTM/ACONC_20220701.ncf')"
   ]
  },
  {
   "cell_type": "code",
   "execution_count": null,
   "metadata": {},
   "outputs": [],
   "source": [
    "print(grid.LON[0,0,0,0].values,   grid.LAT[0,0,0,0].values)\n",
    "print(grid.LON[0,0,0,-1].values,  grid.LAT[0,0,0,-1].values)\n",
    "print(grid.LON[0,0,-1,0].values,  grid.LAT[0,0,-1,0].values)\n",
    "print(grid.LON[0,0,-1,-1].values, grid.LAT[0,0,-1,-1].values)"
   ]
  },
  {
   "cell_type": "code",
   "execution_count": null,
   "metadata": {},
   "outputs": [],
   "source": [
    "print(grid.LAT.values.min(), grid.LON.values.min(), grid.LAT.values.max(), grid.LON.values.max())"
   ]
  },
  {
   "cell_type": "code",
   "execution_count": null,
   "metadata": {},
   "outputs": [],
   "source": [
    "# ....Create dimensions\n",
    "time = [np.datetime64('2022-07-01') + np.timedelta64(hour, 'h') for hour in aconc.TSTEP.values]\n",
    "lat  = grid.LAT[0,0].values\n",
    "lon  = grid.LON[0,0].values"
   ]
  },
  {
   "cell_type": "code",
   "execution_count": null,
   "metadata": {},
   "outputs": [],
   "source": [
    "airpact = xr.Dataset({'O3': (['time', 'x', 'y'], aconc.O3.values[:,0]), 'NO2': (['time', 'x', 'y'], aconc.NO2.values[:,0])}, coords={'time': time, 'lat': (['x', 'y'], lat), 'lon': (['x', 'y'], lon)})"
   ]
  },
  {
   "cell_type": "code",
   "execution_count": null,
   "metadata": {},
   "outputs": [],
   "source": [
    "airpact.to_netcdf('tmp.nc')"
   ]
  },
  {
   "cell_type": "code",
   "execution_count": null,
   "metadata": {},
   "outputs": [],
   "source": [
    "airpact.O3.hvplot.quadmesh('lon', 'lat', geo=True, tiles='OpenTopoMap')"
   ]
  },
  {
   "cell_type": "code",
   "execution_count": null,
   "metadata": {},
   "outputs": [],
   "source": [
    "airpact.O3.to_dataframe().to_csv('tmp.csv')"
   ]
  },
  {
   "cell_type": "code",
   "execution_count": null,
   "metadata": {},
   "outputs": [],
   "source": []
  }
 ],
 "metadata": {
  "kernelspec": {
   "display_name": "Python 3.10.5 ('work')",
   "language": "python",
   "name": "python3"
  },
  "language_info": {
   "codemirror_mode": {
    "name": "ipython",
    "version": 3
   },
   "file_extension": ".py",
   "mimetype": "text/x-python",
   "name": "python",
   "nbconvert_exporter": "python",
   "pygments_lexer": "ipython3",
   "version": "3.10.5"
  },
  "orig_nbformat": 4,
  "vscode": {
   "interpreter": {
    "hash": "cf97be2d387b1decda516284a2b2c2d7b367445e5aaa5706a957813a2d003343"
   }
  }
 },
 "nbformat": 4,
 "nbformat_minor": 2
}
